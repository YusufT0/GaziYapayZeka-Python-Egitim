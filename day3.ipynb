{
 "cells": [
  {
   "cell_type": "code",
   "execution_count": null,
   "metadata": {},
   "outputs": [],
   "source": [
    "def sayhello():\n",
    "    print(\"Hello\")\n",
    "\n",
    "sayhello()"
   ]
  },
  {
   "cell_type": "code",
   "execution_count": null,
   "metadata": {},
   "outputs": [],
   "source": [
    "def isimyazdir(isim):\n",
    "    print(isim)\n",
    "\n",
    "isimyazdir(\"Yusuf\")"
   ]
  },
  {
   "cell_type": "code",
   "execution_count": null,
   "metadata": {},
   "outputs": [],
   "source": [
    "def selamver(isim):\n",
    "    print(\"selam! \" + isim)\n",
    "\n",
    "\n",
    "selamver(\"yusuf\")"
   ]
  },
  {
   "cell_type": "markdown",
   "metadata": {},
   "source": [
    "LOCAL/GLOBAL SCOPE"
   ]
  },
  {
   "cell_type": "code",
   "execution_count": null,
   "metadata": {},
   "outputs": [],
   "source": [
    "def topla(a, b):\n",
    "    c = a + b\n",
    "print(c * c)\n",
    "\n",
    "#######################################################\n",
    "\n",
    "def topla(a, b):\n",
    "    c = a + b\n",
    "    return c\n",
    "result = topla(3, 4)\n",
    "print(result * result)\n",
    "\n"
   ]
  },
  {
   "cell_type": "code",
   "execution_count": null,
   "metadata": {},
   "outputs": [],
   "source": [
    "sayi=10\n",
    "def up(num):\n",
    "    num += 1\n",
    "    return num\n",
    "print(up(sayi))\n"
   ]
  },
  {
   "cell_type": "code",
   "execution_count": null,
   "metadata": {},
   "outputs": [],
   "source": [
    "current_year = 2023\n",
    "yas = 19\n",
    "def hesapla(yas):\n",
    "    dogum_yili = current_year - yas\n",
    "    return dogum_yili\n",
    "print(hesapla(yas))"
   ]
  },
  {
   "cell_type": "code",
   "execution_count": null,
   "metadata": {},
   "outputs": [],
   "source": [
    "##### HESAP MAKİNESİ #####\n",
    "\n",
    "def topla(a, b):\n",
    "    return a + b\n",
    "\n",
    "def cikar(a, b):\n",
    "    if a > b:\n",
    "        return a - b\n",
    "    else: \n",
    "        return b - a\n",
    "def bol(a, b):\n",
    "    return a / b\n",
    "\n",
    "def carp(a, b):\n",
    "    return a * b\n",
    "\n",
    "\n",
    "while True:\n",
    "    sayi1 = int(input(\"Birinci sayıyı girin: \"))\n",
    "    sayi2 = int(input(\"İkinci sayıyı girin: \"))\n",
    "    islem = input(\"Yapmak işlediğiniz işlem nedir? +, /, *, -: \")\n",
    "\n",
    "    if islem == \"+\":\n",
    "        result = topla(sayi1, sayi2)\n",
    "    elif islem == \"-\":\n",
    "        result = cikar(sayi1, sayi2)\n",
    "    elif islem == \"*\":\n",
    "        result = carp(sayi1, sayi2)\n",
    "    elif islem == \"/\":\n",
    "        result = bol(sayi1, sayi2)\n",
    "    else:\n",
    "        print(\"Geçerli bir işlem giriniz!\")\n",
    "\n",
    "    print(result)\n",
    "    devam = input(\"Devam etmek ister misiniz? y/n: \")\n",
    "\n",
    "    if devam == \"n\":\n",
    "        break"
   ]
  },
  {
   "cell_type": "code",
   "execution_count": null,
   "metadata": {},
   "outputs": [],
   "source": [
    "\n",
    "def topla(a, b):\n",
    "    return a + b\n",
    "\n",
    "def carp(a, b):\n",
    "    return a * b\n",
    "\n",
    "def hesapla(a, b, c, d):\n",
    "    top_res = topla(a, b)\n",
    "    carp_res = carp(c, d)\n",
    "    return top_res ** carp_res\n",
    "\n",
    "\n",
    "hesapla(4, 5, 3, 2)\n",
    "\n"
   ]
  },
  {
   "cell_type": "markdown",
   "metadata": {},
   "source": [
    "RECURSIVE\n"
   ]
  },
  {
   "cell_type": "code",
   "execution_count": null,
   "metadata": {},
   "outputs": [],
   "source": [
    "def fibonacci(n):\n",
    "    if n<= 0:\n",
    "        return 0\n",
    "    elif n == 1:\n",
    "        return 1\n",
    "    else:\n",
    "        return fibonacci(n-1) + fibonacci(n-2)\n",
    "    \n",
    "fibonacci(5)"
   ]
  },
  {
   "cell_type": "code",
   "execution_count": null,
   "metadata": {},
   "outputs": [],
   "source": [
    "def factorial(n):\n",
    "    if n == 0:\n",
    "        return 1\n",
    "    else:\n",
    "        return n * factorial(n-1)\n",
    "\n",
    "\n",
    "factorial(5)"
   ]
  },
  {
   "cell_type": "markdown",
   "metadata": {},
   "source": [
    "OOP"
   ]
  },
  {
   "cell_type": "code",
   "execution_count": 3,
   "metadata": {},
   "outputs": [
    {
     "name": "stdout",
     "output_type": "stream",
     "text": [
      "superman\n"
     ]
    }
   ],
   "source": [
    "class Hero:\n",
    "    def __init__(self, name):\n",
    "        self.name = name\n",
    "\n",
    "superman = Hero(\"superman\")\n",
    "print(superman.name)"
   ]
  },
  {
   "cell_type": "code",
   "execution_count": 4,
   "metadata": {},
   "outputs": [
    {
     "name": "stdout",
     "output_type": "stream",
     "text": [
      "superman\n",
      "flying now!\n"
     ]
    }
   ],
   "source": [
    "class Hero:\n",
    "    def __init__(self, name):\n",
    "        self.name = name\n",
    "    def fly(self):\n",
    "        print(\"flying now!\")\n",
    "\n",
    "superman = Hero(\"superman\")\n",
    "print(superman.name)\n",
    "superman.fly()"
   ]
  },
  {
   "cell_type": "code",
   "execution_count": 8,
   "metadata": {},
   "outputs": [
    {
     "name": "stdout",
     "output_type": "stream",
     "text": [
      "kedi walking now\n",
      "kedi eating!\n",
      "LİVİNG\n"
     ]
    }
   ],
   "source": [
    "class Animal:\n",
    "    def __init__(self,name, leg, nose, eye):\n",
    "        self.name = name\n",
    "        self.leg_count = leg\n",
    "        self.nose_count = nose\n",
    "        self.eye_count = eye\n",
    "    \n",
    "    def walk(self):\n",
    "        print(f\"{self.name} walking now\")\n",
    "    def eat(self):\n",
    "        print(f\"{self.name} eating!\")\n",
    "    def living(self):\n",
    "        self.walk()\n",
    "        self.eat()\n",
    "        print(\"LİVİNG\")\n",
    "\n",
    "cat = Animal(\"kedi\", 4, 1, 2)\n",
    "cat.living()\n"
   ]
  },
  {
   "cell_type": "code",
   "execution_count": null,
   "metadata": {},
   "outputs": [],
   "source": [
    "class IsTakip:\n",
    "    def __init__(self):\n",
    "        self.gorevler = []\n",
    "\n",
    "    def gorev_ekle(self, gorev):\n",
    "        self.gorevler.append(gorev)\n",
    "        return f\"{gorev} görevi eklendi.\"\n",
    "\n",
    "    def gorevler_listesi(self):\n",
    "        return \"Görevler:\\n\" + \"\\n\".join(self.gorevler)\n",
    "\n",
    "    def gorev_tamamla(self, gorev):\n",
    "        if gorev in self.gorevler:\n",
    "            self.gorevler.remove(gorev)\n",
    "            return f\"{gorev} görevi tamamlandı.\"\n",
    "        else:\n",
    "            return f\"{gorev} görevi bulunamadı.\"\n",
    "\n",
    "takip_sistemi = IsTakip()\n",
    "\n",
    "print(takip_sistemi.gorev_ekle(\"Rapor hazırlama\"))\n",
    "print(takip_sistemi.gorev_ekle(\"Toplantıya katılma\"))\n",
    "\n",
    "print(takip_sistemi.gorevler_listesi())\n",
    "\n",
    "print(takip_sistemi.gorev_tamamla(\"Rapor hazırlama\"))\n",
    "\n",
    "print(takip_sistemi.gorevler_listesi())"
   ]
  },
  {
   "cell_type": "markdown",
   "metadata": {},
   "source": [
    "INHERITENCE"
   ]
  },
  {
   "cell_type": "code",
   "execution_count": 22,
   "metadata": {},
   "outputs": [
    {
     "name": "stdout",
     "output_type": "stream",
     "text": [
      "tavuk walking now\n",
      "tavuk eating!\n",
      "LİVİNG\n"
     ]
    }
   ],
   "source": [
    "class Chicken(Animal):\n",
    "    def __init__(self,name, leg, nose, eye, kanat):\n",
    "        self.kanat = kanat\n",
    "        super().__init__(name, leg, nose, eye)\n",
    "\n",
    "chick = Chicken(\"tavuk\", 2, 1, 2, 2)\n",
    "chick.living()\n",
    "\n",
    "###################################################################################################\n"
   ]
  },
  {
   "cell_type": "code",
   "execution_count": 10,
   "metadata": {},
   "outputs": [
    {
     "name": "stdout",
     "output_type": "stream",
     "text": [
      "tavuk walking now\n",
      "tavuk eating!\n",
      "LİVİNG\n"
     ]
    }
   ],
   "source": [
    "class Chicken(Animal):\n",
    "    def __init__(self,name, leg, nose, eye, kanat):\n",
    "        self.kanat = kanat\n",
    "        Animal.__init__(self, name, leg, nose, eye)\n",
    "\n",
    "chick = Chicken(\"tavuk\", 2, 1, 2, 2)\n",
    "chick.living()\n"
   ]
  },
  {
   "cell_type": "markdown",
   "metadata": {},
   "source": [
    "POLYMORPHISM"
   ]
  },
  {
   "cell_type": "code",
   "execution_count": 6,
   "metadata": {},
   "outputs": [
    {
     "name": "stdout",
     "output_type": "stream",
     "text": [
      "elma\n",
      "armut\n",
      "Ben bir elmayım.\n"
     ]
    }
   ],
   "source": [
    "class Elma:\n",
    "    def __init__(self):\n",
    "        self.name = \"elma\"\n",
    "    def __str__(self):\n",
    "        return (f\"Ben bir {self.name}yım.\")\n",
    "    def yazdir(self):\n",
    "        print(self.name)\n",
    "class Armut:\n",
    "    def __init__(self):\n",
    "        self.name = \"armut\"\n",
    "    def yazdir(self):\n",
    "        print(self.name)\n",
    "\n",
    "def yaz(sinif):\n",
    "    sinif.yazdir()\n",
    "\n",
    "elma = Elma()\n",
    "armut = Armut()\n",
    "yaz(elma)\n",
    "yaz(armut)\n",
    "print(elma)"
   ]
  },
  {
   "cell_type": "markdown",
   "metadata": {},
   "source": [
    "ÖRNEKLER"
   ]
  },
  {
   "cell_type": "code",
   "execution_count": null,
   "metadata": {},
   "outputs": [],
   "source": [
    "class Bankamatik:\n",
    "    def __init__(self, ad, soyad):\n",
    "        self.ad = ad\n",
    "        self.soyad = soyad\n",
    "        self.bakiye = 0\n",
    "\n",
    "    def hesap_bilgileri(self):\n",
    "        return f\"{self.ad} {self.soyad} - Bakiye: {self.bakiye} TL\"\n",
    "\n",
    "    def para_yatir(self, miktar):\n",
    "        self.bakiye += miktar\n",
    "        return f\"{miktar} TL yatırıldı. Yeni bakiye: {self.bakiye} TL\"\n",
    "\n",
    "    def para_cek(self, miktar):\n",
    "        if miktar <= self.bakiye:\n",
    "            self.bakiye -= miktar\n",
    "            return f\"{miktar} TL çekildi. Yeni bakiye: {self.bakiye} TL\"\n",
    "        else:\n",
    "            return \"Yetersiz bakiye.\"\n",
    "\n",
    "# Örnek bir müşteri oluşturalım\n",
    "musteri = Bankamatik(\"Ahmet\", \"Yılmaz\")\n",
    "\n",
    "# Hesap bilgilerini görüntüleme\n",
    "print(musteri.hesap_bilgileri())\n",
    "\n",
    "# Para yatırma\n",
    "print(musteri.para_yatir(1000))\n",
    "\n",
    "# Para çekme\n",
    "print(musteri.para_cek(500))"
   ]
  },
  {
   "cell_type": "code",
   "execution_count": 2,
   "metadata": {},
   "outputs": [],
   "source": [
    "import os"
   ]
  },
  {
   "cell_type": "code",
   "execution_count": 3,
   "metadata": {},
   "outputs": [
    {
     "name": "stdout",
     "output_type": "stream",
     "text": [
      "c:\\Users\\yusuf\\OneDrive\\Masaüstü\\Eğitim\\EPISODE_3\n"
     ]
    }
   ],
   "source": [
    "print(os.getcwd())"
   ]
  },
  {
   "cell_type": "code",
   "execution_count": 4,
   "metadata": {},
   "outputs": [
    {
     "name": "stdout",
     "output_type": "stream",
     "text": [
      "['da', 'episode_3.ipynb', 'episode_3.pptx', '~$episode_3.pptx']\n"
     ]
    }
   ],
   "source": [
    "print(os.listdir())"
   ]
  },
  {
   "cell_type": "code",
   "execution_count": 7,
   "metadata": {},
   "outputs": [],
   "source": [
    "os.mkdir(\"slm\")"
   ]
  },
  {
   "cell_type": "code",
   "execution_count": 5,
   "metadata": {},
   "outputs": [],
   "source": [
    "os.chdir(\"slm\")"
   ]
  },
  {
   "cell_type": "code",
   "execution_count": 8,
   "metadata": {},
   "outputs": [],
   "source": [
    "os.rmdir(\"slm\")"
   ]
  },
  {
   "cell_type": "code",
   "execution_count": 9,
   "metadata": {},
   "outputs": [],
   "source": [
    "os.mkdir(\"slm\")"
   ]
  },
  {
   "cell_type": "code",
   "execution_count": 10,
   "metadata": {},
   "outputs": [],
   "source": [
    "os.rename(\"slm\", \"selam\")"
   ]
  },
  {
   "cell_type": "code",
   "execution_count": 13,
   "metadata": {},
   "outputs": [
    {
     "data": {
      "text/plain": [
       "True"
      ]
     },
     "execution_count": 13,
     "metadata": {},
     "output_type": "execute_result"
    }
   ],
   "source": [
    "os.path.exists(\"C:\\\\Users\\\\yusuf\\\\OneDrive\\\\Masaüstü\\\\Eğitim\\\\EPISODE_3\\\\da\\\\selam\")"
   ]
  },
  {
   "cell_type": "code",
   "execution_count": 15,
   "metadata": {},
   "outputs": [],
   "source": [
    "os.remove(\"C:\\\\Users\\\\yusuf\\\\OneDrive\\\\Masaüstü\\\\Eğitim\\\\EPISODE_3\\\\da\\\\selam\\\\dosya.txt\")"
   ]
  },
  {
   "cell_type": "markdown",
   "metadata": {},
   "source": []
  }
 ],
 "metadata": {
  "kernelspec": {
   "display_name": "Python 3",
   "language": "python",
   "name": "python3"
  },
  "language_info": {
   "codemirror_mode": {
    "name": "ipython",
    "version": 3
   },
   "file_extension": ".py",
   "mimetype": "text/x-python",
   "name": "python",
   "nbconvert_exporter": "python",
   "pygments_lexer": "ipython3",
   "version": "3.10.6"
  }
 },
 "nbformat": 4,
 "nbformat_minor": 2
}
