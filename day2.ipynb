{
 "cells": [
  {
   "cell_type": "markdown",
   "metadata": {},
   "source": [
    "IMPORT"
   ]
  },
  {
   "cell_type": "code",
   "execution_count": null,
   "metadata": {},
   "outputs": [],
   "source": [
    "import random"
   ]
  },
  {
   "cell_type": "code",
   "execution_count": null,
   "metadata": {},
   "outputs": [],
   "source": [
    "num = random.randint(1, 20)\n",
    "print(num)\n"
   ]
  },
  {
   "cell_type": "code",
   "execution_count": null,
   "metadata": {},
   "outputs": [],
   "source": [
    "num = random.randint(1, 2)\n",
    "if num == 1:\n",
    "    print(\"YAZI\")\n",
    "else:\n",
    "    print(\"TURA\")"
   ]
  },
  {
   "cell_type": "code",
   "execution_count": null,
   "metadata": {},
   "outputs": [],
   "source": [
    "tahmin = input(\"1 ile 10 arasında bir sayı tutuldu.\\nTahmininizi girin:\")\n",
    "sayi = random.randint(1,10)\n",
    "if tahmin == sayi:\n",
    "    print(\"Doğru!\")\n",
    "else:\n",
    "    print(\"Yanlış\")"
   ]
  },
  {
   "cell_type": "markdown",
   "metadata": {},
   "source": [
    "LİSTELER"
   ]
  },
  {
   "cell_type": "code",
   "execution_count": null,
   "metadata": {},
   "outputs": [],
   "source": [
    "meyveler = [\"armut\", \"elma\", \"muz\", \"kivi\"]\n",
    "sayilar = [2, 3, 4, 5]\n",
    "random_things = [2,3, \"fare\", \"kedi\", [34, 45]]"
   ]
  },
  {
   "cell_type": "code",
   "execution_count": null,
   "metadata": {},
   "outputs": [],
   "source": [
    "print(len(meyveler))"
   ]
  },
  {
   "cell_type": "code",
   "execution_count": null,
   "metadata": {},
   "outputs": [],
   "source": [
    "print(meyveler[0])\n",
    "print(meyveler[-1])"
   ]
  },
  {
   "cell_type": "code",
   "execution_count": null,
   "metadata": {},
   "outputs": [],
   "source": [
    "meyveler.append(\"portakal\")\n",
    "print(meyveler)\n",
    "#Listenin sonuna eleman ekler"
   ]
  },
  {
   "cell_type": "code",
   "execution_count": null,
   "metadata": {},
   "outputs": [],
   "source": [
    "meyveler.remove(\"portakal\")\n",
    "print(meyveler)\n",
    "#Listeden belirtilen elemanı kaldırır."
   ]
  },
  {
   "cell_type": "code",
   "execution_count": null,
   "metadata": {},
   "outputs": [],
   "source": [
    "meyveler.pop()\n",
    "print(meyveler)\n",
    "#Listenin sonundan eleman kaldırır."
   ]
  },
  {
   "cell_type": "code",
   "execution_count": null,
   "metadata": {},
   "outputs": [],
   "source": [
    "list1 = [1, 2, 3]\n",
    "list2 = [4, 5]\n",
    "list1.extend(list2)\n",
    "print(list1)  # Çıktı: [1, 2, 3, 4, 5]\n"
   ]
  },
  {
   "cell_type": "code",
   "execution_count": null,
   "metadata": {},
   "outputs": [],
   "source": [
    "random_things[4]"
   ]
  },
  {
   "cell_type": "code",
   "execution_count": null,
   "metadata": {},
   "outputs": [],
   "source": [
    "random_things[4][0]"
   ]
  },
  {
   "cell_type": "code",
   "execution_count": null,
   "metadata": {},
   "outputs": [],
   "source": [
    "mylist = [\"a\", \"b\", \"c\"]\n",
    "random.choice(mylist)"
   ]
  },
  {
   "cell_type": "code",
   "execution_count": null,
   "metadata": {},
   "outputs": [],
   "source": [
    "import random\n",
    "\n",
    "game_images = [\"taş\", \"kağıt\", \"makas\"]\n",
    "\n",
    "user_choice = int(input(\"What do you choose? Type 0 for Rock, 1 for Paper or 2 for Scissors.\\n\"))\n",
    "print(game_images[user_choice])\n",
    "\n",
    "computer_choice = random.randint(0, 2)\n",
    "print(f\"Computer chose: {game_images[computer_choice]}\")\n",
    "\n",
    "if user_choice >= 3 or user_choice < 0: \n",
    "  print(\"You typed an invalid number, you lose!\") \n",
    "elif user_choice == 0 and computer_choice == 2:\n",
    "  print(\"You win!\")\n",
    "elif computer_choice == 0 and user_choice == 2:\n",
    "  print(\"You lose\")\n",
    "elif computer_choice > user_choice:\n",
    "  print(\"You lose\")\n",
    "elif user_choice > computer_choice:\n",
    "  print(\"You win!\")\n",
    "elif computer_choice == user_choice:\n",
    "  print(\"It's a draw\")\n"
   ]
  },
  {
   "cell_type": "markdown",
   "metadata": {},
   "source": [
    "SET"
   ]
  },
  {
   "cell_type": "code",
   "execution_count": null,
   "metadata": {},
   "outputs": [],
   "source": [
    "sayilar = {2, 3, 1, 5, 6, 2}\n",
    "type(sayilar)\n",
    "print(sayilar)"
   ]
  },
  {
   "cell_type": "markdown",
   "metadata": {},
   "source": [
    "TUPLE"
   ]
  },
  {
   "cell_type": "code",
   "execution_count": null,
   "metadata": {},
   "outputs": [],
   "source": [
    "sayilar = (3, 4, 2, 1, 6, 0)"
   ]
  },
  {
   "cell_type": "markdown",
   "metadata": {},
   "source": [
    "DICTIONARIES"
   ]
  },
  {
   "cell_type": "code",
   "execution_count": null,
   "metadata": {},
   "outputs": [],
   "source": [
    "meyve_puanlari = {\"elma\": 7,\n",
    "                  \"armut\": 6,\n",
    "                  \"üzüm\": 8,\n",
    "                  \"muz\" : 8,}\n"
   ]
  },
  {
   "cell_type": "code",
   "execution_count": null,
   "metadata": {},
   "outputs": [],
   "source": [
    "print(meyve_puanlari[\"armut\"])"
   ]
  },
  {
   "cell_type": "code",
   "execution_count": null,
   "metadata": {},
   "outputs": [],
   "source": [
    "bank_accounts = {\"Ahmet\" : 2000,\n",
    "                 \"Mehmet\" : 1000,\n",
    "                 \"Salih\": 3000}\n"
   ]
  },
  {
   "cell_type": "code",
   "execution_count": null,
   "metadata": {},
   "outputs": [],
   "source": [
    "names = bank_accounts.keys()\n",
    "print(names) \n"
   ]
  },
  {
   "cell_type": "code",
   "execution_count": null,
   "metadata": {},
   "outputs": [],
   "source": [
    "para = bank_accounts.values()\n",
    "print(para) \n"
   ]
  },
  {
   "cell_type": "code",
   "execution_count": null,
   "metadata": {},
   "outputs": [],
   "source": [
    "bank_accounts2 = {\"Emre\" : 500,\n",
    "                  \"Ali\" : 2500}\n",
    "\n",
    "bank_accounts.update(bank_accounts2)\n",
    "print(bank_accounts)"
   ]
  },
  {
   "cell_type": "code",
   "execution_count": null,
   "metadata": {},
   "outputs": [],
   "source": [
    "bank_accounts.pop(\"Emre\")\n",
    "print(bank_accounts)"
   ]
  },
  {
   "cell_type": "code",
   "execution_count": null,
   "metadata": {},
   "outputs": [],
   "source": [
    "name = \"Yusuf\"\n",
    "print(name[2])"
   ]
  },
  {
   "cell_type": "markdown",
   "metadata": {},
   "source": [
    "DÖNGÜLER"
   ]
  },
  {
   "cell_type": "code",
   "execution_count": null,
   "metadata": {},
   "outputs": [],
   "source": [
    "print(\"Yusuf\")\n",
    "print(\"Yusuf\")\n",
    "print(\"Yusuf\")\n",
    "print(\"Yusuf\")\n",
    "print(\"Yusuf\")"
   ]
  },
  {
   "cell_type": "code",
   "execution_count": null,
   "metadata": {},
   "outputs": [],
   "source": [
    "for i in range(0,5):\n",
    "    print(\"Yusuf\")\n",
    "    "
   ]
  },
  {
   "cell_type": "code",
   "execution_count": null,
   "metadata": {},
   "outputs": [],
   "source": [
    "for i in range(0,5):\n",
    "    print(i)"
   ]
  },
  {
   "cell_type": "code",
   "execution_count": null,
   "metadata": {},
   "outputs": [],
   "source": [
    "meyveler = [\"armut\", \"elma\", \"muz\", \"kivi\"]\n",
    "for meyve in meyveler:\n",
    "    print(meyve)"
   ]
  },
  {
   "cell_type": "code",
   "execution_count": null,
   "metadata": {},
   "outputs": [],
   "source": [
    "matrix = [[1,2,3,4],[5,6,7,8]]\n",
    "print(matrix[0][1])\n",
    "\n",
    "for i in matrix:\n",
    "    for j in i:\n",
    "        print(j)"
   ]
  },
  {
   "cell_type": "code",
   "execution_count": null,
   "metadata": {},
   "outputs": [],
   "source": [
    "######## Çift sayılar ile liste oluşturan program #########\n",
    "\n",
    "sayilar = [1, 2, 3, 4, 5, 6, 7, 8, 9, 10]\n",
    "\n",
    "filtrelenmis_sayilar = []\n",
    "\n",
    "for sayi in sayilar:\n",
    "    if sayi % 2 == 0:  \n",
    "        filtrelenmis_sayilar.append(sayi)\n",
    "\n",
    "print(\"Çift sayılar:\")\n",
    "for sayi in filtrelenmis_sayilar:\n",
    "    print(sayi)\n"
   ]
  },
  {
   "cell_type": "code",
   "execution_count": null,
   "metadata": {},
   "outputs": [],
   "source": [
    "#Rastgele Şifre Uygulaması\n",
    "import random\n",
    "harfler = ['a', 'b', 'c', 'd', 'e', 'f', 'g', 'h', 'i', 'j', 'k', 'l', 'm', 'n', 'o', 'p', 'q', 'r', 's', 't', 'u', 'v', 'w', 'x', 'y', 'z', 'A', 'B', 'C', 'D', 'E', 'F', 'G', 'H', 'I', 'J', 'K', 'L', 'M', 'N', 'O', 'P', 'Q', 'R', 'S', 'T', 'U', 'V', 'W', 'X', 'Y', 'Z']\n",
    "sayilar = ['0', '1', '2', '3', '4', '5', '6', '7', '8', '9']\n",
    "semboller = ['!', '#', '$', '%', '&', '(', ')', '*', '+']\n",
    "\n",
    "harf_count = int(input(\"Kaç harf istersiniz?\\n\")) \n",
    "sayi_count = int(input(f\"Kaç sayı istersiniz?\\n\"))\n",
    "sembol_count = int(input(f\"Kaç sembol istersiniz?\\n\"))\n",
    "\n",
    "password_list = []\n",
    "\n",
    "for char in range(1, harf_count + 1):\n",
    "  password_list.append(random.choice(harfler))\n",
    "\n",
    "for char in range(1, sembol_count + 1):\n",
    "  password_list += random.choice(semboller)\n",
    "\n",
    "for char in range(1, sayi_count + 1):\n",
    "  password_list += random.choice(sayilar)\n",
    "\n",
    "random.shuffle(password_list)\n",
    "password = \"\"\n",
    "for char in password_list:\n",
    "  password += char\n",
    "\n",
    "print(f\"Şifreniz: {password}\")"
   ]
  },
  {
   "cell_type": "code",
   "execution_count": null,
   "metadata": {},
   "outputs": [],
   "source": [
    "num = 10\n",
    "sayac = 0\n",
    "\n",
    "while num > sayac:\n",
    "    print(num)\n",
    "    num -= 1"
   ]
  },
  {
   "cell_type": "code",
   "execution_count": null,
   "metadata": {},
   "outputs": [],
   "source": [
    "while 4>3:\n",
    "    print(\"Yusuf\")\n",
    "#SONSUZ DÖNGÜ"
   ]
  },
  {
   "cell_type": "code",
   "execution_count": null,
   "metadata": {},
   "outputs": [],
   "source": [
    "while 4 > 3:\n",
    "    name = input(\"isminiz: \")\n",
    "    surname = input(\"Soyisminiz: \")\n",
    "    if name == \"A\":\n",
    "        break\n",
    "    print(\"Full isminiz: \" + name + \" \" + surname)"
   ]
  },
  {
   "cell_type": "code",
   "execution_count": null,
   "metadata": {},
   "outputs": [],
   "source": [
    "import random\n",
    "sayi = random.randint(1,10)\n",
    "sayac = 0\n",
    "while True:\n",
    "    tahmin = int(input(\"1 ile 10 arasında bir sayı tutuldu.\\nTahmininizi girin:\"))\n",
    "    sayac+=1\n",
    "    if tahmin <= 10:    \n",
    "        if tahmin == sayi:\n",
    "            print(\"Doğru!\")\n",
    "            break\n",
    "        elif tahmin < sayi:\n",
    "            print(\"Yanlış, Daha Yüksek bir tahminde bulun!\")\n",
    "        elif tahmin > sayi:\n",
    "            print(\"Yanlış, Daha Düşük bir tahminde bulun!\")\n",
    "    \n",
    "    else:\n",
    "        print(\"Geçersiz bir tahmin!\")\n",
    "print(f\"DOĞRU CEVABI BULMANIZ {sayac} DENEME SÜRDÜ.\")"
   ]
  },
  {
   "cell_type": "markdown",
   "metadata": {},
   "source": [
    "ÖRNEKLER"
   ]
  },
  {
   "cell_type": "code",
   "execution_count": null,
   "metadata": {},
   "outputs": [],
   "source": [
    "YusufHesap = {\n",
    "    'ad': 'Yusuf',\n",
    "    'hesapNo': '13245678',\n",
    "    'bakiye': 3000,\n",
    "}\n",
    "\n",
    "AliHesap = {\n",
    "    'ad': 'Ali',\n",
    "    'hesapNo': '12345678',\n",
    "    'bakiye': 2000,\n",
    "}\n",
    "hesaplar = [YusufHesap, AliHesap]\n",
    "\n",
    "def paraCek(hesap, miktar):\n",
    "    print(f\"Merhaba {hesap['ad']}\")\n",
    "\n",
    "    if (hesap['bakiye'] >= miktar):\n",
    "        hesap['bakiye'] -= miktar \n",
    "        print('paranızı alabilirsiniz.')\n",
    "        bakiyeSorgula(hesap)\n",
    "\n",
    "    else:\n",
    "        print('üzgünüz bakiye yetersiz')\n",
    "        bakiyeSorgula(hesap)\n",
    "\n",
    "def paraYatir(hesap, miktar):\n",
    "    hesap['bakiye'] += miktar\n",
    "    bakiyeSorgula(hesap)\n",
    "\n",
    "def bakiyeSorgula(hesap):\n",
    "    print(f\"{hesap['hesapNo']} nolu hesabınızda {hesap['bakiye']} TL bulunmaktadır.\")\n",
    "\n",
    "while True:\n",
    "    user = 0\n",
    "    menu = input(\"Girmek istediğiniz hesabın hesap numarasını girin: \")\n",
    "    for hesap in hesaplar:\n",
    "        if hesap[\"hesapNo\"] == menu:\n",
    "            user = hesap\n",
    "            break\n",
    "    if user != 0:\n",
    "        while True:    \n",
    "            secim = int(input(f\"Merhaba {user['ad']} Bey/Hanım. Yapmak istediğiniz işlemi seçin: 0-Bakiye Sorgula, 1-Para Çek, 2-Para Yatır.\"))\n",
    "            if secim == 0:\n",
    "                bakiyeSorgula(user)\n",
    "            elif secim == 1:\n",
    "                miktar = int(input(\"Çekmek istediğiniz miktarı girin: \"))\n",
    "                paraCek(user, miktar)\n",
    "            elif secim == 2:\n",
    "                miktar = int(input(\"Çekmek istediğiniz miktarı girin: \"))\n",
    "                paraYatir(user, miktar)\n",
    "            else:\n",
    "                print(\"Maalesef geçersiz bir seçim yaptınız.\")\n",
    "            ans = input(\"Devam etmek istiyor musun y/n: \")\n",
    "            if ans == \"n\":\n",
    "                break\n",
    "            \n",
    "    else:\n",
    "        print(\"Geçersiz Hesap Numarası girdiniz.\")\n",
    "    ans = input(\"Devam etmek istiyor musun y/n: \")\n",
    "    if ans == \"n\":\n",
    "        break\n",
    "\n"
   ]
  }
 ],
 "metadata": {
  "kernelspec": {
   "display_name": "Python 3",
   "language": "python",
   "name": "python3"
  },
  "language_info": {
   "codemirror_mode": {
    "name": "ipython",
    "version": 3
   },
   "file_extension": ".py",
   "mimetype": "text/x-python",
   "name": "python",
   "nbconvert_exporter": "python",
   "pygments_lexer": "ipython3",
   "version": "3.10.6"
  }
 },
 "nbformat": 4,
 "nbformat_minor": 2
}
