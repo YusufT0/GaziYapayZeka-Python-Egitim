{
 "cells": [
  {
   "cell_type": "code",
   "execution_count": 1,
   "metadata": {},
   "outputs": [
    {
     "name": "stdout",
     "output_type": "stream",
     "text": [
      "SelamDünya\n"
     ]
    }
   ],
   "source": [
    "print(\"Selam\" + \"Dünya\")"
   ]
  },
  {
   "cell_type": "code",
   "execution_count": 2,
   "metadata": {},
   "outputs": [
    {
     "name": "stdout",
     "output_type": "stream",
     "text": [
      "Selam \n",
      "Dünya\n"
     ]
    }
   ],
   "source": [
    "print(\"Selam \\n\" + \"Dünya\")"
   ]
  },
  {
   "cell_type": "code",
   "execution_count": 3,
   "metadata": {},
   "outputs": [],
   "source": [
    "#print(\"Bu bir yorum satırı örneği\")"
   ]
  },
  {
   "cell_type": "code",
   "execution_count": 4,
   "metadata": {},
   "outputs": [
    {
     "data": {
      "text/plain": [
       "'\\nprint(\"Bu bir yorum satırı örneği\")\\nprint(\"Bu bir yorum satırı örneği\")\\nprint(\"Bu bir yorum satırı örneği\")\\nprint(\"Bu bir yorum satırı örneği\")\\nprint(\"Bu bir yorum satırı örneği\")\\nprint(\"Bu bir yorum satırı örneği\")\\nprint(\"Bu bir yorum satırı örneği\")\\n\\n'"
      ]
     },
     "execution_count": 4,
     "metadata": {},
     "output_type": "execute_result"
    }
   ],
   "source": [
    "'''\n",
    "print(\"Bu bir yorum satırı örneği\")\n",
    "print(\"Bu bir yorum satırı örneği\")\n",
    "print(\"Bu bir yorum satırı örneği\")\n",
    "print(\"Bu bir yorum satırı örneği\")\n",
    "print(\"Bu bir yorum satırı örneği\")\n",
    "print(\"Bu bir yorum satırı örneği\")\n",
    "print(\"Bu bir yorum satırı örneği\")\n",
    "\n",
    "'''"
   ]
  },
  {
   "cell_type": "code",
   "execution_count": 5,
   "metadata": {},
   "outputs": [],
   "source": [
    "###### GREETING PROJECT #######\n",
    "isim = input(\"İsminiz nedir?: \")\n",
    "name_len = len(isim) #Bir stringin uzunluğunu veren fonksiyon.\n",
    "print(\"Merhaba \" + isim + \"\\nİsminiz \" + str(name_len) + \" Harfli\")\n"
   ]
  },
  {
   "cell_type": "markdown",
   "metadata": {},
   "source": [
    "VERI TIPLERI"
   ]
  },
  {
   "cell_type": "code",
   "execution_count": 6,
   "metadata": {},
   "outputs": [],
   "source": [
    "#STRING\n",
    "str_sayi = \"18\"\n",
    "harf = \"a\"\n",
    "#INTEGER\n",
    "sayi = 321\n",
    "#FLOAT\n",
    "ondalikli = 312.312\n",
    "#BOOLEAN\n",
    "dogru = True\n",
    "yanlis = False"
   ]
  },
  {
   "cell_type": "code",
   "execution_count": 7,
   "metadata": {},
   "outputs": [
    {
     "name": "stdout",
     "output_type": "stream",
     "text": [
      "<class 'bool'>\n",
      "<class 'bool'>\n",
      "<class 'int'>\n",
      "<class 'float'>\n"
     ]
    }
   ],
   "source": [
    "print(type(dogru))\n",
    "print(type(yanlis))\n",
    "print(type(sayi))\n",
    "print(type(ondalikli))\n"
   ]
  },
  {
   "cell_type": "code",
   "execution_count": 8,
   "metadata": {},
   "outputs": [
    {
     "name": "stdout",
     "output_type": "stream",
     "text": [
      "321\n"
     ]
    }
   ],
   "source": [
    "print(str(sayi))"
   ]
  },
  {
   "cell_type": "code",
   "execution_count": 9,
   "metadata": {},
   "outputs": [
    {
     "data": {
      "text/plain": [
       "18"
      ]
     },
     "execution_count": 9,
     "metadata": {},
     "output_type": "execute_result"
    }
   ],
   "source": [
    "int(str_sayi)"
   ]
  },
  {
   "cell_type": "code",
   "execution_count": 10,
   "metadata": {},
   "outputs": [
    {
     "data": {
      "text/plain": [
       "312"
      ]
     },
     "execution_count": 10,
     "metadata": {},
     "output_type": "execute_result"
    }
   ],
   "source": [
    "int(ondalikli)"
   ]
  },
  {
   "cell_type": "code",
   "execution_count": 11,
   "metadata": {},
   "outputs": [
    {
     "data": {
      "text/plain": [
       "321.0"
      ]
     },
     "execution_count": 11,
     "metadata": {},
     "output_type": "execute_result"
    }
   ],
   "source": [
    "float(sayi)"
   ]
  },
  {
   "cell_type": "code",
   "execution_count": 12,
   "metadata": {},
   "outputs": [
    {
     "data": {
      "text/plain": [
       "18.0"
      ]
     },
     "execution_count": 12,
     "metadata": {},
     "output_type": "execute_result"
    }
   ],
   "source": [
    "float(str_sayi)"
   ]
  },
  {
   "cell_type": "code",
   "execution_count": 13,
   "metadata": {},
   "outputs": [
    {
     "name": "stdout",
     "output_type": "stream",
     "text": [
      "97\n"
     ]
    }
   ],
   "source": [
    "ascii_value = ord(harf)\n",
    "print(ascii_value)"
   ]
  },
  {
   "cell_type": "markdown",
   "metadata": {},
   "source": [
    "MATEMATIKSEL OPERATORLER"
   ]
  },
  {
   "cell_type": "code",
   "execution_count": 14,
   "metadata": {},
   "outputs": [
    {
     "name": "stdout",
     "output_type": "stream",
     "text": [
      "5\n",
      "1\n",
      "6\n",
      "0.6666666666666666\n",
      "8\n",
      "0\n"
     ]
    }
   ],
   "source": [
    "print(2 + 3)\n",
    "print(3 - 2)\n",
    "print(2 * 3)\n",
    "print(2 / 3)\n",
    "print(2 ** 3)\n",
    "print(4 % 2) # Bölümden kalanı verir. "
   ]
  },
  {
   "cell_type": "code",
   "execution_count": 15,
   "metadata": {},
   "outputs": [
    {
     "name": "stdout",
     "output_type": "stream",
     "text": [
      "<class 'float'>\n"
     ]
    }
   ],
   "source": [
    "print(type (300 / 2))"
   ]
  },
  {
   "cell_type": "markdown",
   "metadata": {},
   "source": [
    "F STRING\n"
   ]
  },
  {
   "cell_type": "code",
   "execution_count": 16,
   "metadata": {},
   "outputs": [
    {
     "name": "stdout",
     "output_type": "stream",
     "text": [
      "Merhaba benim adım Yusuf ben 20 yaşındayım\n",
      "Merhaba beim adım Yusuf\n"
     ]
    }
   ],
   "source": [
    "yas = 20\n",
    "name = \"Yusuf\"\n",
    "print(f\"Merhaba benim adım {name} ben {yas} yaşındayım\")\n"
   ]
  },
  {
   "cell_type": "code",
   "execution_count": 17,
   "metadata": {},
   "outputs": [],
   "source": [
    "####### BMI Calculator #########\n",
    "weight = int(input(\"Kilonuzu girin: \"))\n",
    "height = float(input(\"Boyunuzu girin: \"))\n",
    "\n",
    "BMI = weight / height**2\n",
    "\n",
    "print(f\"Boy Kütle endeksiniz: {BMI}\")\n"
   ]
  },
  {
   "cell_type": "markdown",
   "metadata": {},
   "source": [
    "KOSUL IFADELERI"
   ]
  },
  {
   "cell_type": "code",
   "execution_count": 27,
   "metadata": {},
   "outputs": [
    {
     "name": "stdout",
     "output_type": "stream",
     "text": [
      "Ödemeniz gereken ücreti ödemediniz.\n",
      "Kalan borcunuz: 20\n"
     ]
    }
   ],
   "source": [
    "borc = 70\n",
    "odeme = 50\n",
    "\n",
    "if borc > odeme:\n",
    "    print(f\"Ödemeniz gereken ücreti ödemediniz.\\nKalan borcunuz: {borc-odeme}\")\n",
    "elif borc == odeme:\n",
    "    print(\"Borcunuz kapanmıştır.\")\n",
    "else:\n",
    "    print(f\"Ödemeniz gereken ücretten fazla ödeme yaptınız.\\nPara üstü: {odeme-borc}\"),\n",
    "    "
   ]
  },
  {
   "cell_type": "code",
   "execution_count": 3,
   "metadata": {},
   "outputs": [
    {
     "name": "stdout",
     "output_type": "stream",
     "text": [
      "Giremezsiniz\n"
     ]
    }
   ],
   "source": [
    "yas = 15\n",
    "tanidik_mi = False\n",
    "\n",
    "if yas >= 18:\n",
    "    print(\"Girebilirsiniz\")\n",
    "elif tanidik_mi == True:\n",
    "    print(\"Girebilirsiniz\")\n",
    "else:\n",
    "    print(\"Giremezsiniz\")\n"
   ]
  },
  {
   "cell_type": "markdown",
   "metadata": {},
   "source": [
    "IF-ELIF FARKI"
   ]
  },
  {
   "cell_type": "code",
   "execution_count": 20,
   "metadata": {},
   "outputs": [
    {
     "name": "stdout",
     "output_type": "stream",
     "text": [
      "Borcunuz kapanmıştır.\n",
      "1. borcunuz kapanmıştır.\n",
      "Borcunuz kapanmıştır.\n"
     ]
    }
   ],
   "source": [
    "borc = 50\n",
    "odeme = 80\n",
    "borc2 = 10\n",
    "if odeme > borc + borc2:\n",
    "    print(\"Borcunuz kapanmıştır.\")\n",
    "if odeme > borc:\n",
    "    print(\"1. borcunuz kapanmıştır.\")\n",
    "\n",
    "################################################################\n",
    "borc = 50\n",
    "odeme = 80\n",
    "borc2 = 10\n",
    "if odeme > borc + borc2:\n",
    "    print(\"Borcunuz kapanmıştır.\")\n",
    "elif odeme > borc:\n",
    "    print(\"1. borcunuz kapanmıştır.\")\n"
   ]
  },
  {
   "cell_type": "markdown",
   "metadata": {},
   "source": [
    "MANTIKSAL OPERATÖRLER"
   ]
  },
  {
   "cell_type": "code",
   "execution_count": 23,
   "metadata": {},
   "outputs": [
    {
     "name": "stdout",
     "output_type": "stream",
     "text": [
      "Evlenebilirsiniz.\n"
     ]
    }
   ],
   "source": [
    "anne_rizasi = True\n",
    "baba_rizasi = True\n",
    "para_var_mi = False\n",
    "\n",
    "if anne_rizasi== True and baba_rizasi == True:\n",
    "    print(\"Evlenebilirsiniz.\")\n",
    "elif anne_rizasi != True or baba_rizasi != True:\n",
    "    if para_var_mi == True:\n",
    "        print(\"Kaçarak Evlenebilirsiniz.\")\n",
    "    else:\n",
    "        print(\"Evlenemezsiniz :( \")\n"
   ]
  },
  {
   "cell_type": "markdown",
   "metadata": {},
   "source": [
    "EV ÖDEVİ"
   ]
  },
  {
   "cell_type": "code",
   "execution_count": 22,
   "metadata": {},
   "outputs": [
    {
     "data": {
      "text/plain": [
       "\"\\nZORLUK 1\\n------------------------------------------------------------------------------------------------------------------\\nBir aquaparkta bilet görevlisi olarak çalıştığınızı düşünün. Sizin yerinize 2 farklı koşulu kontrol ederek hayatınızı\\nkolaylaştıracak bir program yazmaya karar verdiniz. Bu program kullanıcıdan 2 tane değişken isteyecek. Bunlardan birisi\\nkullanıcının yaşı, diğeri ise kullanıcının boy bilgisi olsun. Kullanıcı bu aquaparkta bir kaydırağı kullanmak için 18 yaşından\\nbüyük ve aynı zamanda 170 boyundan uzun olmak zorunda olsun. Bu programı nasıl yazardınız?\\n\\nZORLUK 2\\n------------------------------------------------------------------------------------------------------------------\\nBir insana olan sevginizin ikinizin isminin kombine edilmiş halinde 'sevgi' kelimesinin içindeki harflerin kaç defa geçtiğine bağlı olarak\\narttığı mistik bir evrende yaşadığınızı hayal edin. Eğer sevgi kelimesindeki harfler kombine edilmiş isminizde 3 den az geçiyorsa sevmiyor, 3-5 \\narasında geçiyorsa arkadaş olarak görüyor, 5 den fazla ise seviyor şeklinde bir koşullandırma yapın. \\nPROBLEMLER\\n1)Bu kodu yazabilmek için bir harfin bir kelimede kaç defa geçtiğini bulan fonksiyonu internetten araştırmalısınız.\\n2)Bu programa inputta bulunacak kişinin büyük harf küçük harfe dikkat etmediğini varsayın. Girdinin bütün harflerini küçük hale getirecek fonksiyonu\\ninternetten araştırmalısınız.\\n\""
      ]
     },
     "execution_count": 22,
     "metadata": {},
     "output_type": "execute_result"
    }
   ],
   "source": [
    "\n",
    "\"\"\"\n",
    "ZORLUK 1\n",
    "------------------------------------------------------------------------------------------------------------------\n",
    "Bir aquaparkta bilet görevlisi olarak çalıştığınızı düşünün. Sizin yerinize 2 farklı koşulu kontrol ederek hayatınızı\n",
    "kolaylaştıracak bir program yazmaya karar verdiniz. Bu program kullanıcıdan 2 tane değişken isteyecek. Bunlardan birisi\n",
    "kullanıcının yaşı, diğeri ise kullanıcının boy bilgisi olsun. Kullanıcı bu aquaparkta bir kaydırağı kullanmak için 18 yaşından\n",
    "büyük ve aynı zamanda 170 boyundan uzun olmak zorunda olsun. Bu programı nasıl yazardınız?\n",
    "\n",
    "ZORLUK 2\n",
    "------------------------------------------------------------------------------------------------------------------\n",
    "Bir insana olan sevginizin ikinizin isminin kombine edilmiş halinde 'sevgi' kelimesinin içindeki harflerin kaç defa geçtiğine bağlı olarak\n",
    "arttığı mistik bir evrende yaşadığınızı hayal edin. Eğer sevgi kelimesindeki harfler kombine edilmiş isminizde 3 den az geçiyorsa sevmiyor, 3-5 \n",
    "arasında geçiyorsa arkadaş olarak görüyor, 5 den fazla ise seviyor şeklinde bir koşullandırma yapın. \n",
    "PROBLEMLER\n",
    "1)Bu kodu yazabilmek için bir harfin bir kelimede kaç defa geçtiğini bulan fonksiyonu internetten araştırmalısınız.\n",
    "2)Bu programa inputta bulunacak kişinin büyük harf küçük harfe dikkat etmediğini varsayın. Girdinin bütün harflerini küçük hale getirecek fonksiyonu\n",
    "internetten araştırmalısınız.\n",
    "\"\"\""
   ]
  },
  {
   "cell_type": "code",
   "execution_count": null,
   "metadata": {},
   "outputs": [],
   "source": []
  }
 ],
 "metadata": {
  "kernelspec": {
   "display_name": "Python 3",
   "language": "python",
   "name": "python3"
  },
  "language_info": {
   "codemirror_mode": {
    "name": "ipython",
    "version": 3
   },
   "file_extension": ".py",
   "mimetype": "text/x-python",
   "name": "python",
   "nbconvert_exporter": "python",
   "pygments_lexer": "ipython3",
   "version": "3.10.6"
  }
 },
 "nbformat": 4,
 "nbformat_minor": 2
}
